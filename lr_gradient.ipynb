{
 "cells": [
  {
   "cell_type": "markdown",
   "metadata": {},
   "source": [
    "# Note 1.1: Logistic Regression\n",
    "## Gradient"
   ]
  },
  {
   "cell_type": "markdown",
   "metadata": {},
   "source": [
    "So today I was waiting for an experiment to finish and since it ususally take a couple of hours to finish one of these heafty simulations so I decided to revist some of the concepts from a couple of years ago. While browsing through my textbook I came across an excercise that I could easily do with my eyes closed during my taught master days but out of context today, I felt that it has become somewhat difficult to do these simple derivations."
   ]
  },
  {
   "cell_type": "markdown",
   "metadata": {},
   "source": [
    "As the title suggests, the exercise was to derive the expression of the gradient of a two class binary logistic regression model. So without any more blabbering, let"
   ]
  },
  {
   "cell_type": "markdown",
   "metadata": {},
   "source": [
    "$$\\text{NLL(w)}= \\sum_{i=1}^{N} [ y_{i} \\log(u_{i}) + (1-y_{i}) \\log (1-u_{i}) ]$$"
   ]
  },
  {
   "cell_type": "markdown",
   "metadata": {},
   "source": [
    "be the negative log-likelihood of the logistic regression, where $w$ is the weight, $u_{i} = \\text{sigmoid}(w^{T}x)$ and $y_{i} \\in \\{0,1\\}$."
   ]
  },
  {
   "cell_type": "markdown",
   "metadata": {},
   "source": [
    "For calculating the gradient of the NLL we will need the derivative of the sigmoid function.\n",
    "$$\\frac{d (\\text{sigmoid}(x))}{dx} = \\text{sigmoid}(x)(1 - \\text{sigmoid}(x))$$"
   ]
  },
  {
   "cell_type": "markdown",
   "metadata": {},
   "source": [
    "Now the gradient of the NLL simply becomes,\n",
    "$$ \\sum_{i=1}^{N} [ \\frac{y_{i}}{u_{i}} - \\frac{1}{1-u_{i}} + \\frac{y_{i}}{1-u_{i}} ]\\frac{d (\\text{sigmoid}(w^{T}x))}{dw}$$\n",
    "And we know that $$\\frac{d (\\text{sigmoid}(w^{T}x))}{dw} =\\text{sigmoid}(w^{T}x)(1 - \\text{sigmoid}(w^{T}x))x $$\n",
    "Therefore,"
   ]
  },
  {
   "cell_type": "markdown",
   "metadata": {},
   "source": [
    "$$ \\frac{\\partial \\text{NLL(w)} }{\\partial w} = \\sum_{i=i}^{N} (u_{i} -y_{i} )x $$"
   ]
  }
 ],
 "metadata": {
  "kernelspec": {
   "display_name": "Python 2",
   "language": "python",
   "name": "python2"
  },
  "language_info": {
   "codemirror_mode": {
    "name": "ipython",
    "version": 2
   },
   "file_extension": ".py",
   "mimetype": "text/x-python",
   "name": "python",
   "nbconvert_exporter": "python",
   "pygments_lexer": "ipython2",
   "version": "2.7.6"
  }
 },
 "nbformat": 4,
 "nbformat_minor": 0
}
